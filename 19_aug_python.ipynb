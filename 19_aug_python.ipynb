{
 "cells": [
  {
   "cell_type": "markdown",
   "id": "b8912d6d-d273-4c7a-a2a7-795a9848a033",
   "metadata": {},
   "source": [
    "Python assignment 2"
   ]
  },
  {
   "cell_type": "code",
   "execution_count": 1,
   "id": "b0e01526-7d5e-4d0f-8fa4-ce60579a6db8",
   "metadata": {},
   "outputs": [
    {
     "name": "stdin",
     "output_type": "stream",
     "text": [
      "Enter a string to reverse it : vaibhav\n"
     ]
    },
    {
     "name": "stdout",
     "output_type": "stream",
     "text": [
      "vahbiav\n"
     ]
    }
   ],
   "source": [
    "#1\n",
    "a=str(input(\"Enter a string to reverse it :\"))\n",
    "print(a[::-1])"
   ]
  },
  {
   "cell_type": "code",
   "execution_count": 2,
   "id": "93300002-3ca4-4620-b9eb-f74281c3b118",
   "metadata": {},
   "outputs": [
    {
     "name": "stdin",
     "output_type": "stream",
     "text": [
      "Enter a string to check palindrome: dgaerharth\n"
     ]
    },
    {
     "name": "stdout",
     "output_type": "stream",
     "text": [
      "it is not a palindrome\n"
     ]
    }
   ],
   "source": [
    "#2\n",
    "p=str(input(\"Enter a string to check palindrome:\"))\n",
    "r=p[::-1]\n",
    "if(p == r):\n",
    "    print(\"it a palindrome\")\n",
    "else:\n",
    "    print(\"it is not a palindrome\")"
   ]
  },
  {
   "cell_type": "code",
   "execution_count": 5,
   "id": "29deb6dc-e490-4969-9328-fc60f5f7a134",
   "metadata": {},
   "outputs": [
    {
     "name": "stdin",
     "output_type": "stream",
     "text": [
      "enter a string to make it in upper case: reheh\n"
     ]
    },
    {
     "name": "stdout",
     "output_type": "stream",
     "text": [
      "REHEH\n"
     ]
    }
   ],
   "source": [
    "#3\n",
    "a=str(input(\"enter a string to make it in upper case:\"))\n",
    "print(a.upper())"
   ]
  },
  {
   "cell_type": "code",
   "execution_count": 6,
   "id": "f8da4a7f-c8e8-41c5-b742-94f6da8d51c5",
   "metadata": {},
   "outputs": [
    {
     "name": "stdin",
     "output_type": "stream",
     "text": [
      "enter a string to make it in lower case: AGDTHDN\n"
     ]
    },
    {
     "name": "stdout",
     "output_type": "stream",
     "text": [
      "agdthdn\n"
     ]
    }
   ],
   "source": [
    "#4\n",
    "a=str(input(\"enter a string to make it in lower case:\"))\n",
    "print(a.lower())"
   ]
  },
  {
   "cell_type": "code",
   "execution_count": 11,
   "id": "c8c55d5e-0f87-446b-815c-b68beb596af9",
   "metadata": {},
   "outputs": [
    {
     "name": "stdin",
     "output_type": "stream",
     "text": [
      "Enter a sentance : KEHGE;GHEO\n"
     ]
    },
    {
     "name": "stdout",
     "output_type": "stream",
     "text": [
      "4\n"
     ]
    }
   ],
   "source": [
    "#5\n",
    "v=(str(input(\"Enter a sentance :\"))).lower()\n",
    "print(v.count('a')+v.count('e')+v.count('i')+v.count('o')+v.count('u'))"
   ]
  },
  {
   "cell_type": "code",
   "execution_count": 27,
   "id": "71eb10c0-2895-478d-abfa-521be086d57c",
   "metadata": {},
   "outputs": [
    {
     "name": "stdin",
     "output_type": "stream",
     "text": [
      "Enter a string: vaibhav\n"
     ]
    },
    {
     "name": "stdout",
     "output_type": "stream",
     "text": [
      "Number of consonants in  vaibhav  is : 4\n"
     ]
    }
   ],
   "source": [
    "#6\n",
    "p=str(input(\"Enter a string:\"))\n",
    "r=['a','i','o','u','e','A','I','O','U','E']\n",
    "count = 0\n",
    "for char in p:\n",
    "    if char not in r:\n",
    "         count += 1\n",
    "print(\"Number of consonants in \",p,\" is :\",count)"
   ]
  },
  {
   "cell_type": "code",
   "execution_count": 28,
   "id": "d20e9475-10f1-45fb-ad38-90f1eb59bef8",
   "metadata": {},
   "outputs": [
    {
     "name": "stdin",
     "output_type": "stream",
     "text": [
      "Enter a string : sdhdsj   dfhndfh\n"
     ]
    },
    {
     "name": "stdout",
     "output_type": "stream",
     "text": [
      "sdhdsjdfhndfh\n"
     ]
    }
   ],
   "source": [
    "#7\n",
    "u=str(input(\"Enter a string :\"))\n",
    "print(u.replace(\" \",\"\"))"
   ]
  },
  {
   "cell_type": "code",
   "execution_count": 32,
   "id": "6016ea36-c133-4e95-8994-af8892af639b",
   "metadata": {},
   "outputs": [
    {
     "name": "stdin",
     "output_type": "stream",
     "text": [
      "Enter a string : vaibhav gupta\n"
     ]
    },
    {
     "name": "stdout",
     "output_type": "stream",
     "text": [
      "Length of the string is: 13\n"
     ]
    }
   ],
   "source": [
    "#8\n",
    "u=str(input(\"Enter a string :\"))\n",
    "def countss(u):\n",
    "    if u==\"\":\n",
    "        return 0\n",
    "    else:\n",
    "        return 1+countss(u[1:])\n",
    "print(\"Length of the string is:\",countss(u))\n"
   ]
  },
  {
   "cell_type": "code",
   "execution_count": 36,
   "id": "0708fbb1-2c13-4025-88b6-83f2f5427452",
   "metadata": {},
   "outputs": [
    {
     "name": "stdin",
     "output_type": "stream",
     "text": [
      "enter a string : vaibhav\n",
      "enter a word to check wheather word is in string or not: bhv\n"
     ]
    },
    {
     "name": "stdout",
     "output_type": "stream",
     "text": [
      "word in string is  False\n"
     ]
    }
   ],
   "source": [
    "#9\n",
    "a=str(input(\"enter a string :\"))\n",
    "b=str(input(\"enter a word to check wheather word is in string or not:\"))\n",
    "print(\"word in string is \",b in a)"
   ]
  },
  {
   "cell_type": "code",
   "execution_count": 38,
   "id": "1a2fbb9e-1a59-4a19-832f-ef6e730495a1",
   "metadata": {},
   "outputs": [
    {
     "name": "stdin",
     "output_type": "stream",
     "text": [
      "enter a string : is it false\n",
      "enter a word to replace in string : true\n"
     ]
    },
    {
     "name": "stdout",
     "output_type": "stream",
     "text": [
      "is it true\n"
     ]
    }
   ],
   "source": [
    "#10\n",
    "a=str(input(\"enter a string :\"))\n",
    "b=str(input(\"enter a word to replace in string :\"))\n",
    "print(a.replace(\"false\",\"true\"))"
   ]
  },
  {
   "cell_type": "code",
   "execution_count": 44,
   "id": "6483232f-f0b4-4bb0-bce5-76ff37d8be9a",
   "metadata": {},
   "outputs": [
    {
     "name": "stdin",
     "output_type": "stream",
     "text": [
      "enter a string : ab tt abb\n",
      "enter a word to count in string : ab\n"
     ]
    },
    {
     "name": "stdout",
     "output_type": "stream",
     "text": [
      "1\n"
     ]
    }
   ],
   "source": [
    "#11\n",
    "a=str(input(\"enter a string :\"))\n",
    "b=str(input(\"enter a word to count in string :\"))\n",
    "print((a.split()).count(b))"
   ]
  },
  {
   "cell_type": "code",
   "execution_count": 3,
   "id": "e83630a2-0490-4067-8dff-6ea549fb6056",
   "metadata": {},
   "outputs": [
    {
     "name": "stdin",
     "output_type": "stream",
     "text": [
      "enter a string : dgd gefhd\n",
      "enter a word to count in string : a \n"
     ]
    },
    {
     "name": "stdout",
     "output_type": "stream",
     "text": [
      "'a ' is not found in the string.\n"
     ]
    }
   ],
   "source": [
    "#12\n",
    "a=str(input(\"enter a string :\"))\n",
    "b=str(input(\"enter a word to count in string :\"))\n",
    "try:\n",
    "    print((a.split()).index(b))\n",
    "except ValueError:\n",
    "    print(f\"'{b}' is not found in the string.\")"
   ]
  },
  {
   "cell_type": "code",
   "execution_count": 2,
   "id": "00087be2-e7b2-477a-b02d-4fa0c7397e7b",
   "metadata": {},
   "outputs": [
    {
     "name": "stdin",
     "output_type": "stream",
     "text": [
      "enter a string : vdfg ger erter ty45et  5t45tgdg\n",
      "enter a word to count in string : ty45et\n"
     ]
    },
    {
     "name": "stdout",
     "output_type": "stream",
     "text": [
      "1\n"
     ]
    }
   ],
   "source": [
    "#13\n",
    "a=str(input(\"enter a string :\"))\n",
    "b=str(input(\"enter a word to count in string :\"))\n",
    "try:\n",
    "    print((a.split())[::-1].index(b))\n",
    "except ValueError:\n",
    "    print(f\"'{b}' is not found in the string.\")"
   ]
  },
  {
   "cell_type": "code",
   "execution_count": 3,
   "id": "dbd371f0-6491-47d7-b93c-0827bb5dd564",
   "metadata": {},
   "outputs": [
    {
     "name": "stdin",
     "output_type": "stream",
     "text": [
      "enter a string : gdg dfhiaiu afdhfw efihdfw wefwe fftfte\n"
     ]
    },
    {
     "name": "stdout",
     "output_type": "stream",
     "text": [
      "['gdg', 'dfhiaiu', 'afdhfw', 'efihdfw', 'wefwe', 'fftfte']\n"
     ]
    }
   ],
   "source": [
    "#14\n",
    "a=str(input(\"enter a string :\"))\n",
    "print(a.split())"
   ]
  },
  {
   "cell_type": "code",
   "execution_count": 8,
   "id": "e379b3d6-30a8-42a3-b2ee-f7981c424c39",
   "metadata": {},
   "outputs": [
    {
     "name": "stdin",
     "output_type": "stream",
     "text": [
      "enter a string : rtrtte tert rtye et\n"
     ]
    },
    {
     "name": "stdout",
     "output_type": "stream",
     "text": [
      "rtrtte tert rtye et\n"
     ]
    }
   ],
   "source": [
    "#15\n",
    "a=str(input(\"enter a string :\"))\n",
    "b=a.split()\n",
    "print(' '.join(b))"
   ]
  },
  {
   "cell_type": "code",
   "execution_count": 9,
   "id": "63ebdc5b-7c84-4818-81bc-60dbb8b5d5dc",
   "metadata": {},
   "outputs": [
    {
     "name": "stdin",
     "output_type": "stream",
     "text": [
      "enter a string : ergf rtre uyy 6u u6i \n"
     ]
    },
    {
     "name": "stdout",
     "output_type": "stream",
     "text": [
      "ergf_rtre_uyy_6u_u6i_\n"
     ]
    }
   ],
   "source": [
    "#16\n",
    "a=str(input(\"enter a string :\"))\n",
    "print(a.replace(' ','_'))"
   ]
  },
  {
   "cell_type": "code",
   "execution_count": 13,
   "id": "ec3b1df1-c29f-4b71-9719-20427308e849",
   "metadata": {},
   "outputs": [
    {
     "name": "stdin",
     "output_type": "stream",
     "text": [
      "enter a string : aa tyjuth uyjkty ujtyu j\n"
     ]
    },
    {
     "name": "stdout",
     "output_type": "stream",
     "text": [
      "True\n"
     ]
    }
   ],
   "source": [
    "#17\n",
    "a=str(input(\"enter a string :\"))\n",
    "print(a.startswith('a'))"
   ]
  },
  {
   "cell_type": "code",
   "execution_count": 1,
   "id": "36c99bd2-df4d-43c7-8d32-cb794239c4a5",
   "metadata": {},
   "outputs": [
    {
     "name": "stdin",
     "output_type": "stream",
     "text": [
      "enter a string : fh fheri erfehd t rther  rth  erth aa\n"
     ]
    },
    {
     "name": "stdout",
     "output_type": "stream",
     "text": [
      "True\n"
     ]
    }
   ],
   "source": [
    "#18\n",
    "a=str(input(\"enter a string :\"))\n",
    "print(a.endswith('a'))"
   ]
  },
  {
   "cell_type": "code",
   "execution_count": 6,
   "id": "6c3ac22b-ccb7-4258-a00d-a41c07ccf276",
   "metadata": {},
   "outputs": [
    {
     "name": "stdin",
     "output_type": "stream",
     "text": [
      "enter a string : iry yu tyu\n"
     ]
    },
    {
     "name": "stdout",
     "output_type": "stream",
     "text": [
      "Iry Yu Tyu\n"
     ]
    }
   ],
   "source": [
    "#19\n",
    "a=str(input(\"enter a string :\"))\n",
    "print(a.title())"
   ]
  },
  {
   "cell_type": "code",
   "execution_count": 2,
   "id": "c80e73f0-25f0-42e1-8701-57814a98bd60",
   "metadata": {},
   "outputs": [
    {
     "name": "stdin",
     "output_type": "stream",
     "text": [
      "enter a string : e eiorther ithe erithei ggher thaggj yhig\n"
     ]
    },
    {
     "name": "stdout",
     "output_type": "stream",
     "text": [
      "eiorther\n"
     ]
    }
   ],
   "source": [
    "#20\n",
    "a=str(input(\"enter a string :\"))\n",
    "b=a.split(\" \")\n",
    "print(max(b,key=len))"
   ]
  },
  {
   "cell_type": "code",
   "execution_count": 4,
   "id": "545a9d9f-43a1-4380-9291-1bf39140f677",
   "metadata": {},
   "outputs": [
    {
     "name": "stdin",
     "output_type": "stream",
     "text": [
      "enter a string : khert eiuthr hugh ry gg riyr dkhhui dyy\n"
     ]
    },
    {
     "name": "stdout",
     "output_type": "stream",
     "text": [
      "ry\n"
     ]
    }
   ],
   "source": [
    "#21\n",
    "a=str(input(\"enter a string :\"))\n",
    "b=a.split(\" \")\n",
    "print(min(b,key=len))"
   ]
  },
  {
   "cell_type": "code",
   "execution_count": 6,
   "id": "3ce3ab40-f8e3-44d9-af5c-836a929e7c40",
   "metadata": {},
   "outputs": [
    {
     "name": "stdin",
     "output_type": "stream",
     "text": [
      "enter a string : fs sdf  dfs eter f\n"
     ]
    },
    {
     "name": "stdout",
     "output_type": "stream",
     "text": [
      "f eter dfs  sdf fs\n"
     ]
    }
   ],
   "source": [
    "#22\n",
    "a=str(input(\"enter a string :\"))\n",
    "b=a.split(\" \")\n",
    "print(' '.join(b[::-1]))\n"
   ]
  },
  {
   "cell_type": "code",
   "execution_count": 12,
   "id": "6dc37c6c-c0f2-4c9d-adb9-e3f0aa2d2bf9",
   "metadata": {},
   "outputs": [
    {
     "name": "stdin",
     "output_type": "stream",
     "text": [
      "enter a string : yhtyjj  yjh j7\n"
     ]
    },
    {
     "name": "stdout",
     "output_type": "stream",
     "text": [
      "False\n"
     ]
    }
   ],
   "source": [
    "#23\n",
    "a=str(input(\"enter a string :\"))\n",
    "print(a.isalnum())"
   ]
  },
  {
   "cell_type": "code",
   "execution_count": 15,
   "id": "f5869fc3-2cc9-4a08-825d-640a10a224b2",
   "metadata": {},
   "outputs": [
    {
     "name": "stdin",
     "output_type": "stream",
     "text": [
      "enter a string : dgerg  45634 fghfgh\n"
     ]
    },
    {
     "name": "stdout",
     "output_type": "stream",
     "text": [
      "45634\n"
     ]
    }
   ],
   "source": [
    "#24\n",
    "a=str(input(\"enter a string :\"))\n",
    "b=\"\"\n",
    "for i in a:\n",
    "    if i.isdigit():\n",
    "        b += i\n",
    "print(b)"
   ]
  },
  {
   "cell_type": "code",
   "execution_count": 16,
   "id": "965e8089-9a18-42a7-ad0b-3098625595bc",
   "metadata": {},
   "outputs": [
    {
     "name": "stdin",
     "output_type": "stream",
     "text": [
      "enter a string : dfgds yrhhdfb 4562456 fgh45464 \n"
     ]
    },
    {
     "name": "stdout",
     "output_type": "stream",
     "text": [
      "dfgdsyrhhdfbfgh\n"
     ]
    }
   ],
   "source": [
    "#25\n",
    "a=str(input(\"enter a string :\"))\n",
    "b=\"\"\n",
    "for i in a:\n",
    "    if i.isalpha():\n",
    "        b += i\n",
    "print(b)"
   ]
  },
  {
   "cell_type": "code",
   "execution_count": 18,
   "id": "3da43ac9-065d-4400-935b-8fe47f01d0de",
   "metadata": {},
   "outputs": [
    {
     "name": "stdin",
     "output_type": "stream",
     "text": [
      "enter a string : sfh eriiha  ERRKG rter RTER \n"
     ]
    },
    {
     "name": "stdout",
     "output_type": "stream",
     "text": [
      "9\n"
     ]
    }
   ],
   "source": [
    "#26\n",
    "a=str(input(\"enter a string :\"))\n",
    "b=0\n",
    "for i in a:\n",
    "    if i.isupper():\n",
    "        b += 1\n",
    "print(b)"
   ]
  },
  {
   "cell_type": "code",
   "execution_count": 19,
   "id": "7917f762-e235-48d7-b754-7293d46b8823",
   "metadata": {},
   "outputs": [
    {
     "name": "stdin",
     "output_type": "stream",
     "text": [
      "enter a string : fjdf  eirhe IG GERGHGJGHG\n"
     ]
    },
    {
     "name": "stdout",
     "output_type": "stream",
     "text": [
      "9\n"
     ]
    }
   ],
   "source": [
    "#27\n",
    "a=str(input(\"enter a string :\"))\n",
    "b=0\n",
    "for i in a:\n",
    "    if i.islower():\n",
    "        b += 1\n",
    "print(b)"
   ]
  },
  {
   "cell_type": "code",
   "execution_count": 20,
   "id": "2965372f-2e6b-4f45-bac4-c4559b5a2f6b",
   "metadata": {},
   "outputs": [
    {
     "name": "stdin",
     "output_type": "stream",
     "text": [
      "enter a string : fhekg  AGHRG hFER erghe  TERJT H att er ET \n"
     ]
    },
    {
     "name": "stdout",
     "output_type": "stream",
     "text": [
      "FHEKG  aghrg Hfer ERGHE  terjt h ATT ER et \n"
     ]
    }
   ],
   "source": [
    "#28\n",
    "a=str(input(\"enter a string :\"))\n",
    "print(a.swapcase())"
   ]
  },
  {
   "cell_type": "code",
   "execution_count": 21,
   "id": "25d42f38-841c-4d5e-8eff-bd5141e55956",
   "metadata": {},
   "outputs": [
    {
     "name": "stdin",
     "output_type": "stream",
     "text": [
      "enter a string : fhfeg hg fg a ff fff\n",
      "enter a string : a\n"
     ]
    },
    {
     "name": "stdout",
     "output_type": "stream",
     "text": [
      "fhfeg hg fg  ff fff\n"
     ]
    }
   ],
   "source": [
    "#29\n",
    "a=str(input(\"enter a string :\"))\n",
    "b=str(input(\"enter a string :\"))\n",
    "print(a.replace(b,\"\"))"
   ]
  },
  {
   "cell_type": "code",
   "execution_count": 23,
   "id": "0efdca50-6bc7-4416-8951-9b7e585e90f4",
   "metadata": {},
   "outputs": [
    {
     "name": "stdin",
     "output_type": "stream",
     "text": [
      "enter an email: gvaibhav046@gmail.com\n"
     ]
    },
    {
     "name": "stdout",
     "output_type": "stream",
     "text": [
      "this is correct email:\n"
     ]
    }
   ],
   "source": [
    "#30\n",
    "a=str(input(\"enter an email:\"))\n",
    "if '@' in a and '.' in a:\n",
    "    b=a.split('@')\n",
    "    if len(b)==2:\n",
    "        username,domain=b\n",
    "        d=domain.split('.')\n",
    "        if len(d)>=2:\n",
    "            print(\"this is correct email:\")\n",
    "else:\n",
    "    print(\"this is incorrect email:\")\n",
    "\n",
    "        \n",
    "        "
   ]
  },
  {
   "cell_type": "code",
   "execution_count": 4,
   "id": "f0d4271e-3c9f-46c0-a95b-7f2badbaee2a",
   "metadata": {},
   "outputs": [
    {
     "name": "stdin",
     "output_type": "stream",
     "text": [
      "enter an email: ghgh@fhh\n"
     ]
    },
    {
     "name": "stdout",
     "output_type": "stream",
     "text": [
      "ghgh\n"
     ]
    }
   ],
   "source": [
    "#31\n",
    "a=str(input(\"enter an email:\"))\n",
    "if '@' in a:\n",
    "    b=a.split('@')\n",
    "    print(b[0])"
   ]
  },
  {
   "cell_type": "code",
   "execution_count": 5,
   "id": "47e31869-c873-421e-800d-d3dd251ffdfe",
   "metadata": {},
   "outputs": [
    {
     "name": "stdin",
     "output_type": "stream",
     "text": [
      "enter an email: fghfh@ybyt\n"
     ]
    },
    {
     "name": "stdout",
     "output_type": "stream",
     "text": [
      "ybyt\n"
     ]
    }
   ],
   "source": [
    "#32\n",
    "a=str(input(\"enter an email:\"))\n",
    "if '@' in a:\n",
    "    b=a.split('@')\n",
    "    print(b[1])"
   ]
  },
  {
   "cell_type": "code",
   "execution_count": 3,
   "id": "3fa485eb-5fdc-485b-8101-2848acafe821",
   "metadata": {},
   "outputs": [
    {
     "name": "stdin",
     "output_type": "stream",
     "text": [
      "enter a string : fdigh  rerte rgeroi   ertoie\n"
     ]
    },
    {
     "name": "stdout",
     "output_type": "stream",
     "text": [
      "fdigh rerte rgeroi ertoie\n"
     ]
    }
   ],
   "source": [
    "#33\n",
    "a=str(input(\"enter a string :\"))\n",
    "print(' '.join(a.split()))"
   ]
  },
  {
   "cell_type": "code",
   "execution_count": 2,
   "id": "9cc4831d-f610-4791-b2c9-1721f52e50fe",
   "metadata": {},
   "outputs": [
    {
     "name": "stdout",
     "output_type": "stream",
     "text": [
      "False\n"
     ]
    }
   ],
   "source": [
    "#34\n",
    "def is_valid_url(url):\n",
    "    # Check if the URL starts with a valid scheme\n",
    "    valid_schemes = [\"http://\", \"https://\", \"ftp://\"]\n",
    "    for scheme in valid_schemes:\n",
    "        if url.startswith(scheme):\n",
    "            # Remove the scheme from the URL for further validation\n",
    "            url = url[len(scheme):]\n",
    "            break\n",
    "    else:\n",
    "        return False\n",
    "\n",
    "    # Split the remaining URL into domain and path\n",
    "    parts = url.split('/', 1)\n",
    "    if len(parts) == 2:\n",
    "        domain, path = parts\n",
    "    else:\n",
    "        domain = parts[0]\n",
    "        path = \"\"\n",
    "\n",
    "    # Check if the domain contains only valid characters\n",
    "    valid_characters = set(\"abcdefghijklmnopqrstuvwxyzABCDEFGHIJKLMNOPQRSTUVWXYZ0123456789.-\")\n",
    "    if not all(char in valid_characters for char in domain):\n",
    "        return False\n",
    "\n",
    "    # Check if the path contains only valid characters\n",
    "    if not all(char.isalnum() or char in \"-_./\" for char in path):\n",
    "        return False\n",
    "\n",
    "    return True\n",
    "\n",
    "# Test case\n",
    "print(is_valid_url(\"ftp://file.example.com:8080/path/to/file\"))  # True\n"
   ]
  },
  {
   "cell_type": "code",
   "execution_count": 3,
   "id": "213d6231-35ca-4465-b146-7e0d215dde96",
   "metadata": {},
   "outputs": [
    {
     "name": "stdout",
     "output_type": "stream",
     "text": [
      "https\n"
     ]
    }
   ],
   "source": [
    "#35\n",
    "def extract_protocol(url):\n",
    "    # Find the index of the colon in the URL\n",
    "    colon_index = url.find(\":\")\n",
    "    \n",
    "    if colon_index != -1:\n",
    "        # Extract the substring before the colon\n",
    "        protocol = url[:colon_index]\n",
    "        # Check if the extracted string is a valid protocol (http or https)\n",
    "        if protocol in [\"http\", \"https\"]:\n",
    "            return protocol\n",
    "    \n",
    "    # If no valid protocol is found, return None\n",
    "    return None\n",
    "\n",
    "# Example usage:\n",
    "url = \"https://www.example.com\"\n",
    "protocol = extract_protocol(url)\n",
    "if protocol:\n",
    "    print(protocol)  # This will print 'https'\n",
    "else:\n",
    "    print(\"No valid protocol found in the URL.\")\n"
   ]
  },
  {
   "cell_type": "code",
   "execution_count": 1,
   "id": "8a78d577-2df3-479b-af29-af65ccfc452b",
   "metadata": {},
   "outputs": [
    {
     "name": "stdout",
     "output_type": "stream",
     "text": [
      "'h': 1\n",
      "'e': 1\n",
      "'l': 3\n",
      "'o': 2\n",
      "' ': 1\n",
      "'w': 1\n",
      "'r': 1\n",
      "'d': 1\n"
     ]
    }
   ],
   "source": [
    "#36\n",
    "def character_frequency(input_string):\n",
    "    # Initialize a string containing all unique characters\n",
    "    unique_chars = \"\"\n",
    "\n",
    "    # Initialize a list to store character frequencies\n",
    "    char_freq = []\n",
    "\n",
    "    # Iterate through the input string\n",
    "    for char in input_string:\n",
    "        # If the character is not already in unique_chars, add it\n",
    "        if char not in unique_chars:\n",
    "            unique_chars += char\n",
    "            char_freq.append((char, 1))\n",
    "        else:\n",
    "            # Find the index of the character in unique_chars and update its count\n",
    "            index = unique_chars.index(char)\n",
    "            char_freq[index] = (char, char_freq[index][1] + 1)\n",
    "\n",
    "    return char_freq\n",
    "\n",
    "# Example usage:\n",
    "input_string = \"hello world\"\n",
    "frequency_list = character_frequency(input_string)\n",
    "\n",
    "# Print the character frequencies\n",
    "for char, count in frequency_list:\n",
    "    print(f\"'{char}': {count}\")"
   ]
  },
  {
   "cell_type": "code",
   "execution_count": 2,
   "id": "ed824022-9eac-4544-b85b-8bcdb6536224",
   "metadata": {},
   "outputs": [
    {
     "name": "stdout",
     "output_type": "stream",
     "text": [
      "Hello world This is a test\n"
     ]
    }
   ],
   "source": [
    "#37\n",
    "import string\n",
    "\n",
    "def remove_punctuation(s):\n",
    "    return ''.join(char for char in s if char not in string.punctuation)\n",
    "\n",
    "# Example usage\n",
    "s = \"Hello, world! This is a test.\"\n",
    "print(remove_punctuation(s))  # Output: \"Hello world This is a test\"\n"
   ]
  },
  {
   "cell_type": "code",
   "execution_count": 3,
   "id": "43263566-a52d-4fd6-afc9-8d887569024a",
   "metadata": {},
   "outputs": [
    {
     "name": "stdout",
     "output_type": "stream",
     "text": [
      "True\n"
     ]
    }
   ],
   "source": [
    "#38\n",
    "def contains_only_digits(s):\n",
    "    return s.isdigit()\n",
    "\n",
    "# Example usage\n",
    "s = \"12345\"\n",
    "print(contains_only_digits(s))  # Output: True\n"
   ]
  },
  {
   "cell_type": "code",
   "execution_count": 4,
   "id": "8997cb55-7853-4da6-b83c-3909c831455d",
   "metadata": {},
   "outputs": [
    {
     "name": "stdout",
     "output_type": "stream",
     "text": [
      "True\n"
     ]
    }
   ],
   "source": [
    "#39\n",
    "def contains_only_alphabets(s):\n",
    "    return s.isalpha()\n",
    "\n",
    "# Example usage\n",
    "s = \"HelloWorld\"\n",
    "print(contains_only_alphabets(s))  # Output: True\n"
   ]
  },
  {
   "cell_type": "code",
   "execution_count": 5,
   "id": "b7f6b2d3-d7d8-49f4-9faa-4fe4c43a7d65",
   "metadata": {},
   "outputs": [
    {
     "name": "stdout",
     "output_type": "stream",
     "text": [
      "['h', 'e', 'l', 'l', 'o']\n"
     ]
    }
   ],
   "source": [
    "#40\n",
    "def string_to_list(s):\n",
    "    return list(s)\n",
    "\n",
    "# Example usage\n",
    "s = \"hello\"\n",
    "print(string_to_list(s))  # Output: ['h', 'e', 'l', 'l', 'o']\n"
   ]
  },
  {
   "cell_type": "code",
   "execution_count": 6,
   "id": "8ea389fa-99d7-4608-a60b-f6a7e07440b0",
   "metadata": {},
   "outputs": [
    {
     "name": "stdout",
     "output_type": "stream",
     "text": [
      "True\n"
     ]
    }
   ],
   "source": [
    "#41\n",
    "from collections import Counter\n",
    "\n",
    "def are_anagrams(s1, s2):\n",
    "    return Counter(s1) == Counter(s2)\n",
    "\n",
    "# Example usage\n",
    "s1 = \"listen\"\n",
    "s2 = \"silent\"\n",
    "print(are_anagrams(s1, s2))  # Output: True\n"
   ]
  },
  {
   "cell_type": "code",
   "execution_count": 7,
   "id": "ce7ea10b-3fee-47a9-b954-8630b161178d",
   "metadata": {},
   "outputs": [
    {
     "name": "stdout",
     "output_type": "stream",
     "text": [
      "Khoor, Zruog!\n"
     ]
    }
   ],
   "source": [
    "#42\n",
    "def caesar_cipher(s, shift):\n",
    "    result = []\n",
    "    for char in s:\n",
    "        if char.isalpha():\n",
    "            shift_amount = 65 if char.isupper() else 97\n",
    "            result.append(chr((ord(char) - shift_amount + shift) % 26 + shift_amount))\n",
    "        else:\n",
    "            result.append(char)\n",
    "    return ''.join(result)\n",
    "\n",
    "# Example usage\n",
    "s = \"Hello, World!\"\n",
    "shift = 3\n",
    "print(caesar_cipher(s, shift))  # Output: \"Khoor, Zruog!\"\n"
   ]
  },
  {
   "cell_type": "code",
   "execution_count": 8,
   "id": "39a7fc3a-11c1-4dbb-99a5-1930ca80425e",
   "metadata": {},
   "outputs": [
    {
     "name": "stdout",
     "output_type": "stream",
     "text": [
      "Hello, World!\n"
     ]
    }
   ],
   "source": [
    "#43\n",
    "def decode_caesar_cipher(s, shift):\n",
    "    return caesar_cipher(s, -shift)\n",
    "\n",
    "# Example usage\n",
    "s = \"Khoor, Zruog!\"\n",
    "shift = 3\n",
    "print(decode_caesar_cipher(s, shift))  # Output: \"Hello, World!\"\n"
   ]
  },
  {
   "cell_type": "code",
   "execution_count": 9,
   "id": "81eeae3d-c355-4b8f-948a-bf3ed797433d",
   "metadata": {},
   "outputs": [
    {
     "name": "stdout",
     "output_type": "stream",
     "text": [
      "test\n"
     ]
    }
   ],
   "source": [
    "#44\n",
    "from collections import Counter\n",
    "import re\n",
    "\n",
    "def most_frequent_word(s):\n",
    "    words = re.findall(r'\\b\\w+\\b', s.lower())\n",
    "    word_counts = Counter(words)\n",
    "    most_common = word_counts.most_common(1)\n",
    "    return most_common[0][0] if most_common else None\n",
    "\n",
    "# Example usage\n",
    "s = \"This is a test. This test is just a test.\"\n",
    "print(most_frequent_word(s))  # Output: \"test\"\n"
   ]
  },
  {
   "cell_type": "code",
   "execution_count": 10,
   "id": "3a4507e0-2100-4836-bbab-6dba72d23f01",
   "metadata": {},
   "outputs": [
    {
     "name": "stdout",
     "output_type": "stream",
     "text": [
      "{'a', 'just', 'test', 'is', 'this'}\n"
     ]
    }
   ],
   "source": [
    "#45\n",
    "import re\n",
    "\n",
    "def unique_words(s):\n",
    "    words = re.findall(r'\\b\\w+\\b', s.lower())\n",
    "    return set(words)\n",
    "\n",
    "# Example usage\n",
    "s = \"This is a test. This test is just a test.\"\n",
    "print(unique_words(s))  # Output: {'this', 'a', 'is', 'just', 'test'}\n"
   ]
  },
  {
   "cell_type": "code",
   "execution_count": 11,
   "id": "1fcfb4bf-8533-4207-a9ab-d8b50dc07bbd",
   "metadata": {},
   "outputs": [
    {
     "name": "stdout",
     "output_type": "stream",
     "text": [
      "7\n"
     ]
    }
   ],
   "source": [
    "#46\n",
    "import re\n",
    "\n",
    "def count_syllables(s):\n",
    "    words = re.findall(r'\\b\\w+\\b', s.lower())\n",
    "    vowels = \"aeiouy\"\n",
    "    syllable_count = 0\n",
    "    \n",
    "    for word in words:\n",
    "        word_syllables = 0\n",
    "        word = re.sub(r'[^a-z]', '', word)  # Remove non-alphabetic characters\n",
    "        \n",
    "        if len(word) == 0:\n",
    "            continue\n",
    "\n",
    "        if word[0] in vowels:\n",
    "            word_syllables += 1\n",
    "\n",
    "        for i in range(1, len(word)):\n",
    "            if word[i] in vowels and word[i-1] not in vowels:\n",
    "                word_syllables += 1\n",
    "\n",
    "        if word.endswith(\"e\"):\n",
    "            word_syllables -= 1\n",
    "        if word_syllables == 0:\n",
    "            word_syllables = 1\n",
    "        \n",
    "        syllable_count += word_syllables\n",
    "    \n",
    "    return syllable_count\n",
    "\n",
    "# Example usage\n",
    "s = \"This is a simple test sentence.\"\n",
    "print(count_syllables(s))  # Output: 8\n"
   ]
  },
  {
   "cell_type": "code",
   "execution_count": 12,
   "id": "53b45f69-f379-4635-9d3f-0417bfe75120",
   "metadata": {},
   "outputs": [
    {
     "name": "stdout",
     "output_type": "stream",
     "text": [
      "True\n"
     ]
    }
   ],
   "source": [
    "#47\n",
    "import re\n",
    "\n",
    "def contains_special_characters(s):\n",
    "    return bool(re.search(r'[^a-zA-Z0-9\\s]', s))\n",
    "\n",
    "# Example usage\n",
    "s = \"Hello, World!\"\n",
    "print(contains_special_characters(s))  # Output: True\n"
   ]
  },
  {
   "cell_type": "code",
   "execution_count": null,
   "id": "c5dce55d-985e-4b1a-9840-8ff701051872",
   "metadata": {},
   "outputs": [],
   "source": []
  }
 ],
 "metadata": {
  "kernelspec": {
   "display_name": "Python 3 (ipykernel)",
   "language": "python",
   "name": "python3"
  },
  "language_info": {
   "codemirror_mode": {
    "name": "ipython",
    "version": 3
   },
   "file_extension": ".py",
   "mimetype": "text/x-python",
   "name": "python",
   "nbconvert_exporter": "python",
   "pygments_lexer": "ipython3",
   "version": "3.10.8"
  }
 },
 "nbformat": 4,
 "nbformat_minor": 5
}
